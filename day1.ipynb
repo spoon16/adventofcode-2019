{
 "cells": [
  {
   "cell_type": "code",
   "execution_count": 1,
   "metadata": {
    "ExecuteTime": {
     "end_time": "2019-12-06T02:06:53.440250Z",
     "start_time": "2019-12-06T02:06:53.431520Z"
    }
   },
   "outputs": [
    {
     "data": {
      "text/plain": [
       "3239503"
      ]
     },
     "execution_count": 1,
     "metadata": {},
     "output_type": "execute_result"
    }
   ],
   "source": [
    "import math\n",
    "\n",
    "inputf = open('day1-input', 'r')\n",
    "\n",
    "def required_fuel_for_mass(mass):\n",
    "    return math.floor(mass / 3) - 2\n",
    "\n",
    "mod_mass = [int(l) for l in inputf.readlines()]\n",
    "mod_fuel = [required_fuel_for_mass(m) for m in mod_mass]\n",
    "sum(mod_fuel)"
   ]
  },
  {
   "cell_type": "code",
   "execution_count": 2,
   "metadata": {
    "ExecuteTime": {
     "end_time": "2019-12-06T02:06:53.446528Z",
     "start_time": "2019-12-06T02:06:53.441937Z"
    }
   },
   "outputs": [
    {
     "data": {
      "text/plain": [
       "4856390"
      ]
     },
     "execution_count": 2,
     "metadata": {},
     "output_type": "execute_result"
    }
   ],
   "source": [
    "def required_fuel(mass):\n",
    "    fuel_mass = required_fuel_for_mass(mass)\n",
    "    if fuel_mass <= 0:\n",
    "        return\n",
    "    yield fuel_mass\n",
    "    yield from required_fuel(fuel_mass)\n",
    "\n",
    "mod_fuel = [sum(required_fuel(m)) for m in mod_mass]\n",
    "sum(mod_fuel)"
   ]
  }
 ],
 "metadata": {
  "kernelspec": {
   "display_name": "Python 3",
   "language": "python",
   "name": "python3"
  },
  "language_info": {
   "codemirror_mode": {
    "name": "ipython",
    "version": 3
   },
   "file_extension": ".py",
   "mimetype": "text/x-python",
   "name": "python",
   "nbconvert_exporter": "python",
   "pygments_lexer": "ipython3",
   "version": "3.7.3"
  }
 },
 "nbformat": 4,
 "nbformat_minor": 2
}
