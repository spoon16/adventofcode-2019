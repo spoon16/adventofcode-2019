{
 "cells": [
  {
   "cell_type": "code",
   "execution_count": 16,
   "metadata": {
    "ExecuteTime": {
     "end_time": "2019-12-17T18:48:05.182605Z",
     "start_time": "2019-12-17T18:48:04.646202Z"
    },
    "code_folding": [
     10,
     17,
     18
    ],
    "scrolled": true
   },
   "outputs": [
    {
     "name": "stdout",
     "output_type": "stream",
     "text": [
      "Min Distance to Cross from Origin 266\n",
      "Min Distance to Cross by Wire Length 19242\n"
     ]
    },
    {
     "data": {
      "image/png": "[encoded data removed]",
      "text/plain": [
       "<Figure size 432x288 with 1 Axes>"
      ]
     },
     "metadata": {
      "needs_background": "light"
     },
     "output_type": "display_data"
    }
   ],
   "source": [
    "import matplotlib.pyplot as plt\n",
    "import sys\n",
    "\n",
    "with open('day3-input', 'r') as wpf:\n",
    "    wpsl = wpf.readlines()\n",
    "\n",
    "#wpsl = [\"R8,U5,L5,D3\", \"U7,R6,D4,L4\"] #6 #30\n",
    "#wpsl = [\"R75,D30,R83,U83,L12,D49,R71,U7,L72\", \"U62,R66,U55,R34,D71,R55,D58,R83\"] #159 #610\n",
    "#wpsl = [\"R98,U47,R26,D63,R33,U87,L62,D20,R33,U53,R51\", \"U98,R91,D20,R16,D67,R40,U7,R15,U6,R7\"] #135 #410\n",
    "\n",
    "def to_wire_path(wire_path_source):\n",
    "    wire_path = wire_path_source.split(',')\n",
    "    for wire_segment in wire_path:\n",
    "        d = wire_segment[0].lower()\n",
    "        l = int(wire_segment[1:])\n",
    "        yield (d, l)\n",
    "    \n",
    "def to_wire_points(wire_path):\n",
    "    def next_point(lst, nxt):\n",
    "        lstx, lsty = lst\n",
    "        nxtx, nxty = nxt\n",
    "        if lstx == nxtx:\n",
    "            if lsty > nxty:\n",
    "                for y in range(lsty - 1, nxty - 1, -1):\n",
    "                    yield (lstx, y)\n",
    "            else:\n",
    "                for y in range(lsty + 1, nxty + 1, 1):\n",
    "                    yield (lstx, y)\n",
    "        elif lsty == nxty:\n",
    "            if lstx > nxtx:\n",
    "                for x in range(lstx - 1, nxtx - 1, -1):\n",
    "                    yield (x, lsty)\n",
    "            else:\n",
    "                for x in range(lstx + 1, nxtx + 1, 1):\n",
    "                    yield (x, lsty)\n",
    "                \n",
    "    first = (0, 0)\n",
    "    yield first\n",
    "    last = first\n",
    "    for ws in wire_path:\n",
    "        d,l = ws\n",
    "        nx, ny = last\n",
    "        if d == 'r':\n",
    "            nx = nx + l\n",
    "        elif d == 'l':\n",
    "            nx = nx - l\n",
    "        elif d == 'u':\n",
    "            ny = ny + l\n",
    "        elif d == 'd':\n",
    "            ny = ny - l\n",
    "        next = (nx, ny)\n",
    "        for np in next_point(last, next):\n",
    "            yield np\n",
    "        last = next\n",
    "                \n",
    "def find_wire_crosses(wire_paths):\n",
    "    wire_points = set(wire_paths[0][1:])\n",
    "    for wire_path in wire_paths[1:]:\n",
    "        current_wire_points = set(wire_path[1:])\n",
    "        for wire_point in current_wire_points:\n",
    "            if wire_point in wire_points:\n",
    "                yield wire_point\n",
    "        wire_points.union(current_wire_points)\n",
    "\n",
    "# parse input\n",
    "wire_paths = []\n",
    "for wps in wpsl:\n",
    "    wire_path = to_wire_path(wps)\n",
    "    wire_paths.append(list(to_wire_points(wire_path)))\n",
    "   \n",
    "# mark origin\n",
    "plt.scatter(0, 0, color='black', marker='o', s=20, zorder=3)\n",
    "\n",
    "# mark all wire crosses\n",
    "wire_crosses = list(find_wire_crosses(wire_paths))\n",
    "ix = []\n",
    "iy = []\n",
    "for wire_cross in wire_crosses:\n",
    "    ix.append(wire_cross[0])\n",
    "    iy.append(wire_cross[1])\n",
    "plt.scatter(ix, iy, color='yellow', marker='o', s=20, zorder=2)\n",
    "\n",
    "# plot wire paths\n",
    "for wire_path in wire_paths:\n",
    "    x = []\n",
    "    y = []\n",
    "    for wire_point in wire_path:\n",
    "        x.append(wire_point[0])\n",
    "        y.append(wire_point[1])\n",
    "    plt.plot(x, y, zorder=1)\n",
    "\n",
    "# mark wire cross closest to central port (origin) by absolute distance\n",
    "min_abs_cross = None\n",
    "min_abs_distance = sys.maxsize\n",
    "for wire_cross in wire_crosses:\n",
    "    wire_cross_distance = sum(map(abs, wire_cross))\n",
    "    if wire_cross_distance < min_abs_distance:\n",
    "        min_abs_distance = wire_cross_distance\n",
    "        min_abs_cross = wire_cross\n",
    "print('Min Distance to Cross from Origin', min_abs_distance)\n",
    "minabsx, minabsy = min_abs_cross\n",
    "plt.scatter(minabsx, minabsy, color='red', marker='*', s=100, zorder=4)\n",
    "\n",
    "# mark wire cross closest to central port (origin) by wire length\n",
    "min_len_cross = None\n",
    "min_len_distance = sys.maxsize\n",
    "for wire_cross in wire_crosses:\n",
    "    wire_cross_distance = None\n",
    "    for wire_path in wire_paths:\n",
    "        wire_path_distance = wire_path.index(wire_cross)\n",
    "        wire_cross_distance = (wire_cross_distance or 0) + wire_path_distance\n",
    "    if wire_cross_distance and wire_cross_distance < min_len_distance:\n",
    "        min_len_distance = wire_cross_distance\n",
    "        min_len_cross = wire_cross\n",
    "print('Min Distance to Cross by Wire Length', min_len_distance)\n",
    "minlenx, minleny = min_len_cross\n",
    "plt.scatter(minlenx, minleny, color='green', marker='*', s=100, zorder=4)\n",
    "\n",
    "plt.show()"
   ]
  },
  {
   "cell_type": "code",
   "execution_count": null,
   "metadata": {},
   "outputs": [],
   "source": []
  }
 ],
 "metadata": {
  "kernelspec": {
   "display_name": "Python 3",
   "language": "python",
   "name": "python3"
  },
  "language_info": {
   "codemirror_mode": {
    "name": "ipython",
    "version": 3
   },
   "file_extension": ".py",
   "mimetype": "text/x-python",
   "name": "python",
   "nbconvert_exporter": "python",
   "pygments_lexer": "ipython3",
   "version": "3.7.3"
  }
 },
 "nbformat": 4,
 "nbformat_minor": 2
}
