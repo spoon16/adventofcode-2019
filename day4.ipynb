{
 "cells": [
  {
   "cell_type": "code",
   "execution_count": 12,
   "metadata": {
    "ExecuteTime": {
     "end_time": "2019-12-17T20:15:50.609763Z",
     "start_time": "2019-12-17T20:15:49.816133Z"
    }
   },
   "outputs": [
    {
     "data": {
      "text/plain": [
       "1929"
      ]
     },
     "execution_count": 12,
     "metadata": {},
     "output_type": "execute_result"
    }
   ],
   "source": [
    "def is_in_range(pp):\n",
    "    return pp >= 134564 and pp <= 585159\n",
    "\n",
    "def is_six_digit_number(ds):\n",
    "    return len(ds) == 6\n",
    "\n",
    "def digits_increase(ds):\n",
    "    last = ds[0]\n",
    "    for d in ds[1:]:\n",
    "        if d < last:\n",
    "            return False\n",
    "        last = d\n",
    "    return True\n",
    "\n",
    "def has_repeating_digit(ds):\n",
    "    last = ds[0]\n",
    "    for d in ds[1:]:\n",
    "        if d == last:\n",
    "            return True\n",
    "        last = d\n",
    "    return False\n",
    "\n",
    "def is_possible_password(pp):\n",
    "    ds = to_digits(pp)\n",
    "    return (\n",
    "        is_in_range(pp)\n",
    "        and is_six_digit_number(ds) \n",
    "        and digits_increase(ds) \n",
    "        and has_repeating_digit(ds)\n",
    "    )\n",
    "\n",
    "def to_digits(n):\n",
    "    return [int(d) for d in str(n)]\n",
    "\n",
    "possible_passwords = [pp for pp in range(134564, 585159 + 1) if is_possible_password(pp)]\n",
    "len(possible_passwords)"
   ]
  },
  {
   "cell_type": "code",
   "execution_count": 21,
   "metadata": {
    "ExecuteTime": {
     "end_time": "2019-12-17T20:25:09.828638Z",
     "start_time": "2019-12-17T20:25:09.817629Z"
    }
   },
   "outputs": [
    {
     "data": {
      "text/plain": [
       "1306"
      ]
     },
     "execution_count": 21,
     "metadata": {},
     "output_type": "execute_result"
    }
   ],
   "source": [
    "def has_digit_that_repeats_once(ds):\n",
    "    dc = {}\n",
    "    for d in ds:\n",
    "        if not d in dc:\n",
    "            dc[d] = 1\n",
    "        else:\n",
    "            dc[d] = dc[d] + 1\n",
    "    for d in dc:\n",
    "        if dc[d] == 2:\n",
    "            return True\n",
    "    return False\n",
    "\n",
    "possible_passwords = [pp for pp in possible_passwords if has_digit_that_repeats_once(to_digits(pp))]\n",
    "len(possible_passwords)"
   ]
  },
  {
   "cell_type": "code",
   "execution_count": null,
   "metadata": {},
   "outputs": [],
   "source": []
  }
 ],
 "metadata": {
  "kernelspec": {
   "display_name": "Python 3",
   "language": "python",
   "name": "python3"
  },
  "language_info": {
   "codemirror_mode": {
    "name": "ipython",
    "version": 3
   },
   "file_extension": ".py",
   "mimetype": "text/x-python",
   "name": "python",
   "nbconvert_exporter": "python",
   "pygments_lexer": "ipython3",
   "version": "3.7.3"
  }
 },
 "nbformat": 4,
 "nbformat_minor": 2
}
