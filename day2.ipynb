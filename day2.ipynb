{
 "cells": [
  {
   "cell_type": "code",
   "execution_count": 1,
   "metadata": {
    "ExecuteTime": {
     "end_time": "2019-12-16T16:28:17.090758Z",
     "start_time": "2019-12-16T16:28:17.075172Z"
    }
   },
   "outputs": [
    {
     "data": {
      "text/plain": [
       "4576384"
      ]
     },
     "execution_count": 1,
     "metadata": {},
     "output_type": "execute_result"
    }
   ],
   "source": [
    "with open('day2-input', 'r') as ic_f:\n",
    "    init_source = ic_f.readline()\n",
    "\n",
    "init_source = init_source.split(',')\n",
    "init_state = [int(i) for i in init_source]\n",
    "\n",
    "alarm_state = init_state.copy()\n",
    "alarm_state[1] = 12\n",
    "alarm_state[2] = 2\n",
    "\n",
    "def exec_intcode(state):\n",
    "    for ip in range(0, len(state), 4):\n",
    "        oc = state[ip]\n",
    "        p1 = state[ip + 1]\n",
    "        p2 = state[ip + 2]\n",
    "        p3 = state[ip + 3]\n",
    "\n",
    "        if oc == 1:\n",
    "            state[p3] = state[p1] + state[p2]\n",
    "        elif oc == 2:\n",
    "            state[p3] = state[p1] * state[p2]\n",
    "        elif oc == 99:\n",
    "            break\n",
    "        else:\n",
    "            print('error, unexpected opcode', oc)\n",
    "            break    \n",
    "\n",
    "exec_intcode(alarm_state)\n",
    "alarm_state[0]"
   ]
  },
  {
   "cell_type": "code",
   "execution_count": 2,
   "metadata": {
    "ExecuteTime": {
     "end_time": "2019-12-16T16:28:17.218663Z",
     "start_time": "2019-12-16T16:28:17.093137Z"
    }
   },
   "outputs": [
    {
     "data": {
      "text/plain": [
       "5398"
      ]
     },
     "execution_count": 2,
     "metadata": {},
     "output_type": "execute_result"
    }
   ],
   "source": [
    "noun = -1\n",
    "verb = -1\n",
    "for n in range(0, 100):\n",
    "    for v in range(0, 100):\n",
    "        can_state = init_state.copy()\n",
    "        can_state[1] = n\n",
    "        can_state[2] = v\n",
    "        exec_intcode(can_state)\n",
    "        if can_state[0] == 19690720:\n",
    "            noun = n\n",
    "            verb = v\n",
    "            break\n",
    "\n",
    "100 * noun + verb"
   ]
  },
  {
   "cell_type": "code",
   "execution_count": null,
   "metadata": {},
   "outputs": [],
   "source": []
  }
 ],
 "metadata": {
  "kernelspec": {
   "display_name": "Python 3",
   "language": "python",
   "name": "python3"
  },
  "language_info": {
   "codemirror_mode": {
    "name": "ipython",
    "version": 3
   },
   "file_extension": ".py",
   "mimetype": "text/x-python",
   "name": "python",
   "nbconvert_exporter": "python",
   "pygments_lexer": "ipython3",
   "version": "3.7.3"
  }
 },
 "nbformat": 4,
 "nbformat_minor": 2
}
